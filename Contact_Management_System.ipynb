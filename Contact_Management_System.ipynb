{
  "nbformat": 4,
  "nbformat_minor": 0,
  "metadata": {
    "colab": {
      "provenance": []
    },
    "kernelspec": {
      "name": "python3",
      "display_name": "Python 3"
    },
    "language_info": {
      "name": "python"
    }
  },
  "cells": [
    {
      "cell_type": "code",
      "execution_count": 3,
      "metadata": {
        "colab": {
          "base_uri": "https://localhost:8080/"
        },
        "id": "t7KhvQ3EffuK",
        "outputId": "0d4f0049-f16c-4ed7-8867-bb573bae1d32"
      },
      "outputs": [
        {
          "output_type": "stream",
          "name": "stdout",
          "text": [
            "Contact 'Jayesh Surekar' with phone number '9059495941' added successfully.\n",
            "Contact 'Suyash Ladge' with phone number '9876543210' added successfully.\n",
            "List of Contacts:\n",
            "Name: Jayesh Surekar, Phone Number: 9059495941\n",
            "Name: Suyash Ladge, Phone Number: 9876543210\n",
            "Contact 'Suaysh Ladge' not found.\n",
            "Contact 'Jayesh surekar' not found.\n",
            "Contact 'Ayush Mhatre' not found.\n",
            "Contact 'Devansh Roge' not found.\n",
            "List of Contacts:\n",
            "Name: Jayesh Surekar, Phone Number: 9059495941\n",
            "Name: Suyash Ladge, Phone Number: 9876543210\n"
          ]
        }
      ],
      "source": [
        "contacts = {}\n",
        "\n",
        "def add_contact(name, phone_number):\n",
        "    contacts[name] = phone_number\n",
        "    print(f\"Contact '{name}' with phone number '{phone_number}' added successfully.\")\n",
        "\n",
        "def search_contact(name):\n",
        "    if name in contacts:\n",
        "        print(f\"Name: {name}, Phone Number: {contacts[name]}\")\n",
        "    else:\n",
        "        print(f\"Contact '{name}' not found.\")\n",
        "\n",
        "def delete_contact(name):\n",
        "    if name in contacts:\n",
        "        del contacts[name]\n",
        "        print(f\"Contact '{name}' deleted successfully.\")\n",
        "    else:\n",
        "        print(f\"Contact '{name}' not found.\")\n",
        "\n",
        "def list_contacts():\n",
        "    if contacts:\n",
        "        print(\"List of Contacts:\")\n",
        "        for name, phone_number in contacts.items():\n",
        "            print(f\"Name: {name}, Phone Number: {phone_number}\")\n",
        "    else:\n",
        "        print(\"No contacts found.\")\n",
        "\n",
        "# Sample usage\n",
        "add_contact(\"Jayesh Surekar\", \"9059495941\")\n",
        "add_contact(\"Suyash Ladge\", \"9876543210\")\n",
        "list_contacts()\n",
        "search_contact(\"Suaysh Ladge\")\n",
        "search_contact(\"Jayesh surekar\")\n",
        "search_contact(\"Ayush Mhatre\")\n",
        "delete_contact(\"Devansh Roge\")\n",
        "list_contacts()\n"
      ]
    }
  ]
}